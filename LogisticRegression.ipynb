{
 "cells": [
  {
   "cell_type": "code",
   "execution_count": 27,
   "id": "c6f4c490",
   "metadata": {},
   "outputs": [
    {
     "data": {
      "text/html": [
       "<div>\n",
       "<style scoped>\n",
       "    .dataframe tbody tr th:only-of-type {\n",
       "        vertical-align: middle;\n",
       "    }\n",
       "\n",
       "    .dataframe tbody tr th {\n",
       "        vertical-align: top;\n",
       "    }\n",
       "\n",
       "    .dataframe thead th {\n",
       "        text-align: right;\n",
       "    }\n",
       "</style>\n",
       "<table border=\"1\" class=\"dataframe\">\n",
       "  <thead>\n",
       "    <tr style=\"text-align: right;\">\n",
       "      <th></th>\n",
       "      <th>Survived</th>\n",
       "      <th>PassengerId</th>\n",
       "      <th>Pclass</th>\n",
       "      <th>Sex</th>\n",
       "      <th>Age</th>\n",
       "      <th>SibSp</th>\n",
       "      <th>Parch</th>\n",
       "      <th>Fare</th>\n",
       "      <th>Embarked</th>\n",
       "      <th>CabinDeck</th>\n",
       "      <th>Title</th>\n",
       "      <th>TravelCompanion</th>\n",
       "    </tr>\n",
       "  </thead>\n",
       "  <tbody>\n",
       "    <tr>\n",
       "      <th>0</th>\n",
       "      <td>0</td>\n",
       "      <td>530</td>\n",
       "      <td>2</td>\n",
       "      <td>0</td>\n",
       "      <td>23.00</td>\n",
       "      <td>2</td>\n",
       "      <td>1</td>\n",
       "      <td>11.5000</td>\n",
       "      <td>0</td>\n",
       "      <td>0</td>\n",
       "      <td>0</td>\n",
       "      <td>0</td>\n",
       "    </tr>\n",
       "    <tr>\n",
       "      <th>1</th>\n",
       "      <td>0</td>\n",
       "      <td>466</td>\n",
       "      <td>3</td>\n",
       "      <td>0</td>\n",
       "      <td>38.00</td>\n",
       "      <td>0</td>\n",
       "      <td>0</td>\n",
       "      <td>7.0500</td>\n",
       "      <td>0</td>\n",
       "      <td>0</td>\n",
       "      <td>0</td>\n",
       "      <td>0</td>\n",
       "    </tr>\n",
       "    <tr>\n",
       "      <th>2</th>\n",
       "      <td>0</td>\n",
       "      <td>753</td>\n",
       "      <td>3</td>\n",
       "      <td>0</td>\n",
       "      <td>33.00</td>\n",
       "      <td>0</td>\n",
       "      <td>0</td>\n",
       "      <td>9.5000</td>\n",
       "      <td>0</td>\n",
       "      <td>0</td>\n",
       "      <td>0</td>\n",
       "      <td>0</td>\n",
       "    </tr>\n",
       "    <tr>\n",
       "      <th>3</th>\n",
       "      <td>0</td>\n",
       "      <td>855</td>\n",
       "      <td>2</td>\n",
       "      <td>1</td>\n",
       "      <td>44.00</td>\n",
       "      <td>1</td>\n",
       "      <td>0</td>\n",
       "      <td>26.0000</td>\n",
       "      <td>0</td>\n",
       "      <td>0</td>\n",
       "      <td>2</td>\n",
       "      <td>0</td>\n",
       "    </tr>\n",
       "    <tr>\n",
       "      <th>4</th>\n",
       "      <td>0</td>\n",
       "      <td>333</td>\n",
       "      <td>1</td>\n",
       "      <td>0</td>\n",
       "      <td>38.00</td>\n",
       "      <td>0</td>\n",
       "      <td>1</td>\n",
       "      <td>153.4625</td>\n",
       "      <td>0</td>\n",
       "      <td>1</td>\n",
       "      <td>0</td>\n",
       "      <td>1</td>\n",
       "    </tr>\n",
       "    <tr>\n",
       "      <th>5</th>\n",
       "      <td>0</td>\n",
       "      <td>39</td>\n",
       "      <td>3</td>\n",
       "      <td>1</td>\n",
       "      <td>18.00</td>\n",
       "      <td>2</td>\n",
       "      <td>0</td>\n",
       "      <td>18.0000</td>\n",
       "      <td>0</td>\n",
       "      <td>0</td>\n",
       "      <td>1</td>\n",
       "      <td>1</td>\n",
       "    </tr>\n",
       "    <tr>\n",
       "      <th>6</th>\n",
       "      <td>0</td>\n",
       "      <td>236</td>\n",
       "      <td>3</td>\n",
       "      <td>1</td>\n",
       "      <td>29.36</td>\n",
       "      <td>0</td>\n",
       "      <td>0</td>\n",
       "      <td>7.5500</td>\n",
       "      <td>0</td>\n",
       "      <td>0</td>\n",
       "      <td>1</td>\n",
       "      <td>0</td>\n",
       "    </tr>\n",
       "    <tr>\n",
       "      <th>7</th>\n",
       "      <td>0</td>\n",
       "      <td>303</td>\n",
       "      <td>3</td>\n",
       "      <td>0</td>\n",
       "      <td>19.00</td>\n",
       "      <td>0</td>\n",
       "      <td>0</td>\n",
       "      <td>0.0000</td>\n",
       "      <td>0</td>\n",
       "      <td>0</td>\n",
       "      <td>0</td>\n",
       "      <td>1</td>\n",
       "    </tr>\n",
       "    <tr>\n",
       "      <th>8</th>\n",
       "      <td>1</td>\n",
       "      <td>18</td>\n",
       "      <td>2</td>\n",
       "      <td>0</td>\n",
       "      <td>29.36</td>\n",
       "      <td>0</td>\n",
       "      <td>0</td>\n",
       "      <td>13.0000</td>\n",
       "      <td>0</td>\n",
       "      <td>0</td>\n",
       "      <td>0</td>\n",
       "      <td>0</td>\n",
       "    </tr>\n",
       "    <tr>\n",
       "      <th>9</th>\n",
       "      <td>1</td>\n",
       "      <td>505</td>\n",
       "      <td>1</td>\n",
       "      <td>1</td>\n",
       "      <td>16.00</td>\n",
       "      <td>0</td>\n",
       "      <td>0</td>\n",
       "      <td>86.5000</td>\n",
       "      <td>0</td>\n",
       "      <td>2</td>\n",
       "      <td>1</td>\n",
       "      <td>0</td>\n",
       "    </tr>\n",
       "  </tbody>\n",
       "</table>\n",
       "</div>"
      ],
      "text/plain": [
       "   Survived  PassengerId  Pclass  Sex    Age  SibSp  Parch      Fare  \\\n",
       "0         0          530       2    0  23.00      2      1   11.5000   \n",
       "1         0          466       3    0  38.00      0      0    7.0500   \n",
       "2         0          753       3    0  33.00      0      0    9.5000   \n",
       "3         0          855       2    1  44.00      1      0   26.0000   \n",
       "4         0          333       1    0  38.00      0      1  153.4625   \n",
       "5         0           39       3    1  18.00      2      0   18.0000   \n",
       "6         0          236       3    1  29.36      0      0    7.5500   \n",
       "7         0          303       3    0  19.00      0      0    0.0000   \n",
       "8         1           18       2    0  29.36      0      0   13.0000   \n",
       "9         1          505       1    1  16.00      0      0   86.5000   \n",
       "\n",
       "   Embarked  CabinDeck  Title  TravelCompanion  \n",
       "0         0          0      0                0  \n",
       "1         0          0      0                0  \n",
       "2         0          0      0                0  \n",
       "3         0          0      2                0  \n",
       "4         0          1      0                1  \n",
       "5         0          0      1                1  \n",
       "6         0          0      1                0  \n",
       "7         0          0      0                1  \n",
       "8         0          0      0                0  \n",
       "9         0          2      1                0  "
      ]
     },
     "execution_count": 27,
     "metadata": {},
     "output_type": "execute_result"
    }
   ],
   "source": [
    "import pandas as pd\n",
    "import matplotlib.pyplot as plt\n",
    "import numpy as np\n",
    "from sklearn.linear_model import LogisticRegression\n",
    "from sklearn.model_selection import train_test_split\n",
    "from sklearn.metrics import mean_squared_error\n",
    "from sklearn.metrics import precision_recall_fscore_support\n",
    "import seaborn as sns\n",
    "\n",
    "data = pd.read_csv(\"titanic2.tsv\", sep='\\t')\n",
    "data.head(10)"
   ]
  },
  {
   "cell_type": "code",
   "execution_count": 28,
   "id": "6db9a989",
   "metadata": {},
   "outputs": [],
   "source": [
    "data_train, data_test = train_test_split(data, test_size=0.2,random_state=27)"
   ]
  },
  {
   "cell_type": "code",
   "execution_count": 29,
   "id": "f96dfd25",
   "metadata": {},
   "outputs": [
    {
     "data": {
      "text/html": [
       "<div>\n",
       "<style scoped>\n",
       "    .dataframe tbody tr th:only-of-type {\n",
       "        vertical-align: middle;\n",
       "    }\n",
       "\n",
       "    .dataframe tbody tr th {\n",
       "        vertical-align: top;\n",
       "    }\n",
       "\n",
       "    .dataframe thead th {\n",
       "        text-align: right;\n",
       "    }\n",
       "</style>\n",
       "<table border=\"1\" class=\"dataframe\">\n",
       "  <thead>\n",
       "    <tr style=\"text-align: right;\">\n",
       "      <th></th>\n",
       "      <th>Survived</th>\n",
       "      <th>PassengerId</th>\n",
       "      <th>Pclass</th>\n",
       "      <th>Sex</th>\n",
       "      <th>Age</th>\n",
       "      <th>SibSp</th>\n",
       "      <th>Parch</th>\n",
       "      <th>Fare</th>\n",
       "      <th>Embarked</th>\n",
       "      <th>CabinDeck</th>\n",
       "      <th>Title</th>\n",
       "      <th>TravelCompanion</th>\n",
       "    </tr>\n",
       "  </thead>\n",
       "  <tbody>\n",
       "    <tr>\n",
       "      <th>29</th>\n",
       "      <td>1</td>\n",
       "      <td>751</td>\n",
       "      <td>2</td>\n",
       "      <td>1</td>\n",
       "      <td>4.00</td>\n",
       "      <td>1</td>\n",
       "      <td>1</td>\n",
       "      <td>23.0000</td>\n",
       "      <td>0</td>\n",
       "      <td>0</td>\n",
       "      <td>1</td>\n",
       "      <td>0</td>\n",
       "    </tr>\n",
       "    <tr>\n",
       "      <th>227</th>\n",
       "      <td>0</td>\n",
       "      <td>419</td>\n",
       "      <td>2</td>\n",
       "      <td>0</td>\n",
       "      <td>30.00</td>\n",
       "      <td>0</td>\n",
       "      <td>0</td>\n",
       "      <td>13.0000</td>\n",
       "      <td>0</td>\n",
       "      <td>0</td>\n",
       "      <td>0</td>\n",
       "      <td>0</td>\n",
       "    </tr>\n",
       "    <tr>\n",
       "      <th>83</th>\n",
       "      <td>1</td>\n",
       "      <td>196</td>\n",
       "      <td>1</td>\n",
       "      <td>1</td>\n",
       "      <td>58.00</td>\n",
       "      <td>0</td>\n",
       "      <td>0</td>\n",
       "      <td>146.5208</td>\n",
       "      <td>1</td>\n",
       "      <td>2</td>\n",
       "      <td>1</td>\n",
       "      <td>0</td>\n",
       "    </tr>\n",
       "    <tr>\n",
       "      <th>567</th>\n",
       "      <td>0</td>\n",
       "      <td>17</td>\n",
       "      <td>3</td>\n",
       "      <td>0</td>\n",
       "      <td>2.00</td>\n",
       "      <td>4</td>\n",
       "      <td>1</td>\n",
       "      <td>29.1250</td>\n",
       "      <td>2</td>\n",
       "      <td>0</td>\n",
       "      <td>3</td>\n",
       "      <td>4</td>\n",
       "    </tr>\n",
       "    <tr>\n",
       "      <th>66</th>\n",
       "      <td>0</td>\n",
       "      <td>229</td>\n",
       "      <td>2</td>\n",
       "      <td>0</td>\n",
       "      <td>18.00</td>\n",
       "      <td>0</td>\n",
       "      <td>0</td>\n",
       "      <td>13.0000</td>\n",
       "      <td>0</td>\n",
       "      <td>0</td>\n",
       "      <td>0</td>\n",
       "      <td>0</td>\n",
       "    </tr>\n",
       "    <tr>\n",
       "      <th>...</th>\n",
       "      <td>...</td>\n",
       "      <td>...</td>\n",
       "      <td>...</td>\n",
       "      <td>...</td>\n",
       "      <td>...</td>\n",
       "      <td>...</td>\n",
       "      <td>...</td>\n",
       "      <td>...</td>\n",
       "      <td>...</td>\n",
       "      <td>...</td>\n",
       "      <td>...</td>\n",
       "      <td>...</td>\n",
       "    </tr>\n",
       "    <tr>\n",
       "      <th>537</th>\n",
       "      <td>0</td>\n",
       "      <td>111</td>\n",
       "      <td>1</td>\n",
       "      <td>0</td>\n",
       "      <td>47.00</td>\n",
       "      <td>0</td>\n",
       "      <td>0</td>\n",
       "      <td>52.0000</td>\n",
       "      <td>0</td>\n",
       "      <td>1</td>\n",
       "      <td>0</td>\n",
       "      <td>0</td>\n",
       "    </tr>\n",
       "    <tr>\n",
       "      <th>24</th>\n",
       "      <td>1</td>\n",
       "      <td>534</td>\n",
       "      <td>3</td>\n",
       "      <td>1</td>\n",
       "      <td>29.36</td>\n",
       "      <td>0</td>\n",
       "      <td>2</td>\n",
       "      <td>22.3583</td>\n",
       "      <td>1</td>\n",
       "      <td>0</td>\n",
       "      <td>2</td>\n",
       "      <td>1</td>\n",
       "    </tr>\n",
       "    <tr>\n",
       "      <th>293</th>\n",
       "      <td>1</td>\n",
       "      <td>129</td>\n",
       "      <td>3</td>\n",
       "      <td>1</td>\n",
       "      <td>29.36</td>\n",
       "      <td>1</td>\n",
       "      <td>1</td>\n",
       "      <td>22.3583</td>\n",
       "      <td>1</td>\n",
       "      <td>6</td>\n",
       "      <td>1</td>\n",
       "      <td>1</td>\n",
       "    </tr>\n",
       "    <tr>\n",
       "      <th>543</th>\n",
       "      <td>0</td>\n",
       "      <td>715</td>\n",
       "      <td>2</td>\n",
       "      <td>0</td>\n",
       "      <td>52.00</td>\n",
       "      <td>0</td>\n",
       "      <td>0</td>\n",
       "      <td>13.0000</td>\n",
       "      <td>0</td>\n",
       "      <td>0</td>\n",
       "      <td>0</td>\n",
       "      <td>1</td>\n",
       "    </tr>\n",
       "    <tr>\n",
       "      <th>19</th>\n",
       "      <td>1</td>\n",
       "      <td>329</td>\n",
       "      <td>3</td>\n",
       "      <td>1</td>\n",
       "      <td>31.00</td>\n",
       "      <td>1</td>\n",
       "      <td>1</td>\n",
       "      <td>20.5250</td>\n",
       "      <td>0</td>\n",
       "      <td>0</td>\n",
       "      <td>2</td>\n",
       "      <td>2</td>\n",
       "    </tr>\n",
       "  </tbody>\n",
       "</table>\n",
       "<p>498 rows × 12 columns</p>\n",
       "</div>"
      ],
      "text/plain": [
       "     Survived  PassengerId  Pclass  Sex    Age  SibSp  Parch      Fare  \\\n",
       "29          1          751       2    1   4.00      1      1   23.0000   \n",
       "227         0          419       2    0  30.00      0      0   13.0000   \n",
       "83          1          196       1    1  58.00      0      0  146.5208   \n",
       "567         0           17       3    0   2.00      4      1   29.1250   \n",
       "66          0          229       2    0  18.00      0      0   13.0000   \n",
       "..        ...          ...     ...  ...    ...    ...    ...       ...   \n",
       "537         0          111       1    0  47.00      0      0   52.0000   \n",
       "24          1          534       3    1  29.36      0      2   22.3583   \n",
       "293         1          129       3    1  29.36      1      1   22.3583   \n",
       "543         0          715       2    0  52.00      0      0   13.0000   \n",
       "19          1          329       3    1  31.00      1      1   20.5250   \n",
       "\n",
       "     Embarked  CabinDeck  Title  TravelCompanion  \n",
       "29          0          0      1                0  \n",
       "227         0          0      0                0  \n",
       "83          1          2      1                0  \n",
       "567         2          0      3                4  \n",
       "66          0          0      0                0  \n",
       "..        ...        ...    ...              ...  \n",
       "537         0          1      0                0  \n",
       "24          1          0      2                1  \n",
       "293         1          6      1                1  \n",
       "543         0          0      0                1  \n",
       "19          0          0      2                2  \n",
       "\n",
       "[498 rows x 12 columns]"
      ]
     },
     "execution_count": 29,
     "metadata": {},
     "output_type": "execute_result"
    }
   ],
   "source": [
    "data_train"
   ]
  },
  {
   "cell_type": "markdown",
   "id": "fcdb33b6",
   "metadata": {},
   "source": [
    "### Przygotowanie danych do uczenia, odstające dane "
   ]
  },
  {
   "cell_type": "code",
   "execution_count": 30,
   "id": "b016f26e",
   "metadata": {},
   "outputs": [
    {
     "data": {
      "text/plain": [
       "Survived           0\n",
       "PassengerId        0\n",
       "Pclass             0\n",
       "Sex                0\n",
       "Age                0\n",
       "SibSp              0\n",
       "Parch              0\n",
       "Fare               0\n",
       "Embarked           0\n",
       "CabinDeck          0\n",
       "Title              0\n",
       "TravelCompanion    0\n",
       "dtype: int64"
      ]
     },
     "execution_count": 30,
     "metadata": {},
     "output_type": "execute_result"
    }
   ],
   "source": [
    "data_train.isnull().sum()"
   ]
  },
  {
   "cell_type": "code",
   "execution_count": 31,
   "id": "91657f71",
   "metadata": {},
   "outputs": [
    {
     "data": {
      "text/html": [
       "<div>\n",
       "<style scoped>\n",
       "    .dataframe tbody tr th:only-of-type {\n",
       "        vertical-align: middle;\n",
       "    }\n",
       "\n",
       "    .dataframe tbody tr th {\n",
       "        vertical-align: top;\n",
       "    }\n",
       "\n",
       "    .dataframe thead th {\n",
       "        text-align: right;\n",
       "    }\n",
       "</style>\n",
       "<table border=\"1\" class=\"dataframe\">\n",
       "  <thead>\n",
       "    <tr style=\"text-align: right;\">\n",
       "      <th></th>\n",
       "      <th>Survived</th>\n",
       "      <th>PassengerId</th>\n",
       "      <th>Pclass</th>\n",
       "      <th>Sex</th>\n",
       "      <th>Age</th>\n",
       "      <th>SibSp</th>\n",
       "      <th>Parch</th>\n",
       "      <th>Fare</th>\n",
       "      <th>Embarked</th>\n",
       "      <th>CabinDeck</th>\n",
       "      <th>Title</th>\n",
       "      <th>TravelCompanion</th>\n",
       "    </tr>\n",
       "  </thead>\n",
       "  <tbody>\n",
       "    <tr>\n",
       "      <th>std</th>\n",
       "      <td>0.48814</td>\n",
       "      <td>256.856243</td>\n",
       "      <td>0.828319</td>\n",
       "      <td>0.480318</td>\n",
       "      <td>13.226157</td>\n",
       "      <td>1.065426</td>\n",
       "      <td>0.766523</td>\n",
       "      <td>38.673031</td>\n",
       "      <td>0.637136</td>\n",
       "      <td>1.527899</td>\n",
       "      <td>1.053988</td>\n",
       "      <td>1.041325</td>\n",
       "    </tr>\n",
       "  </tbody>\n",
       "</table>\n",
       "</div>"
      ],
      "text/plain": [
       "     Survived  PassengerId    Pclass       Sex        Age     SibSp     Parch  \\\n",
       "std   0.48814   256.856243  0.828319  0.480318  13.226157  1.065426  0.766523   \n",
       "\n",
       "          Fare  Embarked  CabinDeck     Title  TravelCompanion  \n",
       "std  38.673031  0.637136   1.527899  1.053988         1.041325  "
      ]
     },
     "execution_count": 31,
     "metadata": {},
     "output_type": "execute_result"
    }
   ],
   "source": [
    "data_train.agg([\"std\"])"
   ]
  },
  {
   "cell_type": "code",
   "execution_count": 32,
   "id": "2ebe4c4d",
   "metadata": {},
   "outputs": [
    {
     "data": {
      "text/html": [
       "<div>\n",
       "<style scoped>\n",
       "    .dataframe tbody tr th:only-of-type {\n",
       "        vertical-align: middle;\n",
       "    }\n",
       "\n",
       "    .dataframe tbody tr th {\n",
       "        vertical-align: top;\n",
       "    }\n",
       "\n",
       "    .dataframe thead th {\n",
       "        text-align: right;\n",
       "    }\n",
       "</style>\n",
       "<table border=\"1\" class=\"dataframe\">\n",
       "  <thead>\n",
       "    <tr style=\"text-align: right;\">\n",
       "      <th></th>\n",
       "      <th>Survived</th>\n",
       "      <th>PassengerId</th>\n",
       "      <th>Pclass</th>\n",
       "      <th>Sex</th>\n",
       "      <th>Age</th>\n",
       "      <th>SibSp</th>\n",
       "      <th>Parch</th>\n",
       "      <th>Fare</th>\n",
       "      <th>Embarked</th>\n",
       "      <th>CabinDeck</th>\n",
       "      <th>Title</th>\n",
       "      <th>TravelCompanion</th>\n",
       "    </tr>\n",
       "  </thead>\n",
       "  <tbody>\n",
       "    <tr>\n",
       "      <th>kurtosis</th>\n",
       "      <td>-1.800838</td>\n",
       "      <td>-1.200561</td>\n",
       "      <td>-1.192739</td>\n",
       "      <td>-1.661358</td>\n",
       "      <td>0.723043</td>\n",
       "      <td>13.318185</td>\n",
       "      <td>7.985170</td>\n",
       "      <td>12.916561</td>\n",
       "      <td>1.028985</td>\n",
       "      <td>5.372263</td>\n",
       "      <td>1.124941</td>\n",
       "      <td>5.173054</td>\n",
       "    </tr>\n",
       "    <tr>\n",
       "      <th>skew</th>\n",
       "      <td>0.454325</td>\n",
       "      <td>0.053354</td>\n",
       "      <td>-0.692562</td>\n",
       "      <td>0.587648</td>\n",
       "      <td>0.479507</td>\n",
       "      <td>3.208947</td>\n",
       "      <td>2.544209</td>\n",
       "      <td>3.234868</td>\n",
       "      <td>1.514314</td>\n",
       "      <td>2.441386</td>\n",
       "      <td>1.361482</td>\n",
       "      <td>2.318677</td>\n",
       "    </tr>\n",
       "  </tbody>\n",
       "</table>\n",
       "</div>"
      ],
      "text/plain": [
       "          Survived  PassengerId    Pclass       Sex       Age      SibSp  \\\n",
       "kurtosis -1.800838    -1.200561 -1.192739 -1.661358  0.723043  13.318185   \n",
       "skew      0.454325     0.053354 -0.692562  0.587648  0.479507   3.208947   \n",
       "\n",
       "             Parch       Fare  Embarked  CabinDeck     Title  TravelCompanion  \n",
       "kurtosis  7.985170  12.916561  1.028985   5.372263  1.124941         5.173054  \n",
       "skew      2.544209   3.234868  1.514314   2.441386  1.361482         2.318677  "
      ]
     },
     "execution_count": 32,
     "metadata": {},
     "output_type": "execute_result"
    }
   ],
   "source": [
    "data_train.agg(['kurtosis', 'skew'])"
   ]
  },
  {
   "cell_type": "code",
   "execution_count": 88,
   "id": "b12e9261",
   "metadata": {},
   "outputs": [],
   "source": [
    "quantile1 = data_train.quantile(0.05) \n",
    "quantile3 = data_train.quantile(0.95)\n",
    "interquartile_range = quantile3 - quantile1 "
   ]
  },
  {
   "cell_type": "code",
   "execution_count": 89,
   "id": "42e73d5e",
   "metadata": {},
   "outputs": [
    {
     "data": {
      "text/plain": [
       "Survived             1.0000\n",
       "PassengerId        794.6000\n",
       "Pclass               2.0000\n",
       "Sex                  1.0000\n",
       "Age                 49.1500\n",
       "SibSp                3.0000\n",
       "Parch                2.0000\n",
       "Fare                88.5808\n",
       "Embarked             2.0000\n",
       "CabinDeck            4.0000\n",
       "Title                3.0000\n",
       "TravelCompanion      3.0000\n",
       "dtype: float64"
      ]
     },
     "execution_count": 89,
     "metadata": {},
     "output_type": "execute_result"
    }
   ],
   "source": [
    "interquartile_range"
   ]
  },
  {
   "cell_type": "code",
   "execution_count": 90,
   "id": "d143b7ce",
   "metadata": {},
   "outputs": [],
   "source": [
    "low_boundary = (quantile1  - 1.5 * interquartile_range)\n",
    "upp_boundary = (quantile3 + 1.5 * interquartile_range)\n",
    "outliers_L = (data_train[interquartile_range.index] < low_boundary).sum()\n",
    "outliers_U = (data_train[interquartile_range.index] > upp_boundary).sum()"
   ]
  },
  {
   "cell_type": "markdown",
   "id": "d97212ee",
   "metadata": {},
   "source": [
    "Procent odstających danych w każdej z kategorii:"
   ]
  },
  {
   "cell_type": "code",
   "execution_count": 91,
   "id": "2dd84f53",
   "metadata": {},
   "outputs": [
    {
     "name": "stdout",
     "output_type": "stream",
     "text": [
      "Survived: \u001b[92m0.00%\u001b[0m\n",
      "PassengerId: \u001b[92m0.00%\u001b[0m\n",
      "Pclass: \u001b[92m0.00%\u001b[0m\n",
      "Sex: \u001b[92m0.00%\u001b[0m\n",
      "Age: \u001b[92m0.00%\u001b[0m\n",
      "SibSp: \u001b[33m0.40%\u001b[0m\n",
      "Parch: \u001b[92m0.00%\u001b[0m\n",
      "Fare: \u001b[33m0.60%\u001b[0m\n",
      "Embarked: \u001b[92m0.00%\u001b[0m\n",
      "CabinDeck: \u001b[92m0.00%\u001b[0m\n",
      "Title: \u001b[92m0.00%\u001b[0m\n",
      "TravelCompanion: \u001b[92m0.00%\u001b[0m\n"
     ]
    }
   ],
   "source": [
    "outliers_percentage = ((outliers_U + outliers_L) / len(data_train)) * 100\n",
    "for i, col in enumerate(data_train.columns):\n",
    "    if outliers_percentage.iloc[i] == 0.0:\n",
    "        print(\"{}: \\033[92m{:.2f}%\\033[0m\".format(col, outliers_percentage.iloc[i]))\n",
    "    elif outliers_percentage.iloc[i] > 10.0:\n",
    "        print(\"{}: \\033[91m{:.2f}%\\033[0m\".format(col, outliers_percentage.iloc[i])) \n",
    "    else:\n",
    "        print(\"{}: \\033[33m{:.2f}%\\033[0m\".format(col, outliers_percentage.iloc[i]))"
   ]
  },
  {
   "cell_type": "code",
   "execution_count": 92,
   "id": "cf44fe83",
   "metadata": {},
   "outputs": [
    {
     "data": {
      "text/plain": [
       "0"
      ]
     },
     "execution_count": 92,
     "metadata": {},
     "output_type": "execute_result"
    }
   ],
   "source": [
    "data_out = data_train.loc[(data_train[\"TravelCompanion\"] < low_boundary[\"TravelCompanion\"]) | (data_train[\"TravelCompanion\"] > upp_boundary[\"TravelCompanion\"])]                            \n",
    "len(data_out)"
   ]
  },
  {
   "cell_type": "code",
   "execution_count": 93,
   "id": "01a530ba",
   "metadata": {},
   "outputs": [],
   "source": [
    "def remove_outliers(data, column):\n",
    "    data_out = data.loc[(data[column] > low_boundary[column]) & (data[column] < upp_boundary[column])]\n",
    "    return data_out"
   ]
  },
  {
   "cell_type": "code",
   "execution_count": 94,
   "id": "1d616c1c",
   "metadata": {},
   "outputs": [],
   "source": [
    "data_train_out = remove_outliers(remove_outliers(remove_outliers(remove_outliers(remove_outliers(data_train, \"SibSp\"),\"Parch\"),\"Fare\"),\"CabinDeck\"),\"TravelCompanion\")"
   ]
  },
  {
   "cell_type": "code",
   "execution_count": 95,
   "id": "9f6a29de",
   "metadata": {},
   "outputs": [
    {
     "name": "stdout",
     "output_type": "stream",
     "text": [
      "Rozmiar zbioru z obserwacjami odstającymi: 498 \n",
      "Rozmiar zbioru po usunięciu obserwacji odstających: 491\n"
     ]
    }
   ],
   "source": [
    "print('Rozmiar zbioru z obserwacjami odstającymi:', len(data_train), \"\\nRozmiar zbioru po usunięciu obserwacji odstających:\", len(data_train_out))"
   ]
  },
  {
   "cell_type": "markdown",
   "id": "a7934653",
   "metadata": {},
   "source": [
    "### Stworzenie modelu"
   ]
  },
  {
   "cell_type": "code",
   "execution_count": 96,
   "id": "a18c395f",
   "metadata": {},
   "outputs": [
    {
     "name": "stderr",
     "output_type": "stream",
     "text": [
      "C:\\Users\\marty\\AppData\\Local\\Programs\\Python\\Python311\\Lib\\site-packages\\sklearn\\linear_model\\_logistic.py:458: ConvergenceWarning: lbfgs failed to converge (status=1):\n",
      "STOP: TOTAL NO. of ITERATIONS REACHED LIMIT.\n",
      "\n",
      "Increase the number of iterations (max_iter) or scale the data as shown in:\n",
      "    https://scikit-learn.org/stable/modules/preprocessing.html\n",
      "Please also refer to the documentation for alternative solver options:\n",
      "    https://scikit-learn.org/stable/modules/linear_model.html#logistic-regression\n",
      "  n_iter_i = _check_optimize_result(\n"
     ]
    },
    {
     "data": {
      "text/html": [
       "<style>#sk-container-id-5 {color: black;background-color: white;}#sk-container-id-5 pre{padding: 0;}#sk-container-id-5 div.sk-toggleable {background-color: white;}#sk-container-id-5 label.sk-toggleable__label {cursor: pointer;display: block;width: 100%;margin-bottom: 0;padding: 0.3em;box-sizing: border-box;text-align: center;}#sk-container-id-5 label.sk-toggleable__label-arrow:before {content: \"▸\";float: left;margin-right: 0.25em;color: #696969;}#sk-container-id-5 label.sk-toggleable__label-arrow:hover:before {color: black;}#sk-container-id-5 div.sk-estimator:hover label.sk-toggleable__label-arrow:before {color: black;}#sk-container-id-5 div.sk-toggleable__content {max-height: 0;max-width: 0;overflow: hidden;text-align: left;background-color: #f0f8ff;}#sk-container-id-5 div.sk-toggleable__content pre {margin: 0.2em;color: black;border-radius: 0.25em;background-color: #f0f8ff;}#sk-container-id-5 input.sk-toggleable__control:checked~div.sk-toggleable__content {max-height: 200px;max-width: 100%;overflow: auto;}#sk-container-id-5 input.sk-toggleable__control:checked~label.sk-toggleable__label-arrow:before {content: \"▾\";}#sk-container-id-5 div.sk-estimator input.sk-toggleable__control:checked~label.sk-toggleable__label {background-color: #d4ebff;}#sk-container-id-5 div.sk-label input.sk-toggleable__control:checked~label.sk-toggleable__label {background-color: #d4ebff;}#sk-container-id-5 input.sk-hidden--visually {border: 0;clip: rect(1px 1px 1px 1px);clip: rect(1px, 1px, 1px, 1px);height: 1px;margin: -1px;overflow: hidden;padding: 0;position: absolute;width: 1px;}#sk-container-id-5 div.sk-estimator {font-family: monospace;background-color: #f0f8ff;border: 1px dotted black;border-radius: 0.25em;box-sizing: border-box;margin-bottom: 0.5em;}#sk-container-id-5 div.sk-estimator:hover {background-color: #d4ebff;}#sk-container-id-5 div.sk-parallel-item::after {content: \"\";width: 100%;border-bottom: 1px solid gray;flex-grow: 1;}#sk-container-id-5 div.sk-label:hover label.sk-toggleable__label {background-color: #d4ebff;}#sk-container-id-5 div.sk-serial::before {content: \"\";position: absolute;border-left: 1px solid gray;box-sizing: border-box;top: 0;bottom: 0;left: 50%;z-index: 0;}#sk-container-id-5 div.sk-serial {display: flex;flex-direction: column;align-items: center;background-color: white;padding-right: 0.2em;padding-left: 0.2em;position: relative;}#sk-container-id-5 div.sk-item {position: relative;z-index: 1;}#sk-container-id-5 div.sk-parallel {display: flex;align-items: stretch;justify-content: center;background-color: white;position: relative;}#sk-container-id-5 div.sk-item::before, #sk-container-id-5 div.sk-parallel-item::before {content: \"\";position: absolute;border-left: 1px solid gray;box-sizing: border-box;top: 0;bottom: 0;left: 50%;z-index: -1;}#sk-container-id-5 div.sk-parallel-item {display: flex;flex-direction: column;z-index: 1;position: relative;background-color: white;}#sk-container-id-5 div.sk-parallel-item:first-child::after {align-self: flex-end;width: 50%;}#sk-container-id-5 div.sk-parallel-item:last-child::after {align-self: flex-start;width: 50%;}#sk-container-id-5 div.sk-parallel-item:only-child::after {width: 0;}#sk-container-id-5 div.sk-dashed-wrapped {border: 1px dashed gray;margin: 0 0.4em 0.5em 0.4em;box-sizing: border-box;padding-bottom: 0.4em;background-color: white;}#sk-container-id-5 div.sk-label label {font-family: monospace;font-weight: bold;display: inline-block;line-height: 1.2em;}#sk-container-id-5 div.sk-label-container {text-align: center;}#sk-container-id-5 div.sk-container {/* jupyter's `normalize.less` sets `[hidden] { display: none; }` but bootstrap.min.css set `[hidden] { display: none !important; }` so we also need the `!important` here to be able to override the default hidden behavior on the sphinx rendered scikit-learn.org. See: https://github.com/scikit-learn/scikit-learn/issues/21755 */display: inline-block !important;position: relative;}#sk-container-id-5 div.sk-text-repr-fallback {display: none;}</style><div id=\"sk-container-id-5\" class=\"sk-top-container\"><div class=\"sk-text-repr-fallback\"><pre>LogisticRegression(random_state=0)</pre><b>In a Jupyter environment, please rerun this cell to show the HTML representation or trust the notebook. <br />On GitHub, the HTML representation is unable to render, please try loading this page with nbviewer.org.</b></div><div class=\"sk-container\" hidden><div class=\"sk-item\"><div class=\"sk-estimator sk-toggleable\"><input class=\"sk-toggleable__control sk-hidden--visually\" id=\"sk-estimator-id-5\" type=\"checkbox\" checked><label for=\"sk-estimator-id-5\" class=\"sk-toggleable__label sk-toggleable__label-arrow\">LogisticRegression</label><div class=\"sk-toggleable__content\"><pre>LogisticRegression(random_state=0)</pre></div></div></div></div></div>"
      ],
      "text/plain": [
       "LogisticRegression(random_state=0)"
      ]
     },
     "execution_count": 96,
     "metadata": {},
     "output_type": "execute_result"
    }
   ],
   "source": [
    "y_train = data_train_out[\"Survived\"]\n",
    "X_train = data_train_out.iloc[:, 1:]\n",
    "model = LogisticRegression(random_state=0)\n",
    "model.fit(X_train, y_train.ravel())"
   ]
  },
  {
   "cell_type": "code",
   "execution_count": 97,
   "id": "5c31a487",
   "metadata": {},
   "outputs": [],
   "source": [
    "#sns.regplot(x=data.iloc[:,3], y=data.iloc[:,0])"
   ]
  },
  {
   "cell_type": "code",
   "execution_count": 98,
   "id": "9b9a09ca",
   "metadata": {},
   "outputs": [],
   "source": [
    "y_expected = data_test[\"Survived\"]\n",
    "x_test = data_test.iloc[:, 1:]\n",
    "y_predicted = model.predict(x_test)"
   ]
  },
  {
   "cell_type": "code",
   "execution_count": 99,
   "id": "75e91fe6",
   "metadata": {},
   "outputs": [
    {
     "name": "stdout",
     "output_type": "stream",
     "text": [
      "[0 0 0 1 0 1 1 0 1 0 0 0 1 0 1 0 0 1 0 1 0 0 0 0 0 1 0 1 1 0]\n"
     ]
    }
   ],
   "source": [
    "print(y_predicted[:30])"
   ]
  },
  {
   "cell_type": "markdown",
   "id": "a7e7cb7d",
   "metadata": {},
   "source": [
    "#### Ewaluacja regresji"
   ]
  },
  {
   "cell_type": "code",
   "execution_count": 100,
   "id": "d1c4f9a7",
   "metadata": {},
   "outputs": [
    {
     "name": "stdout",
     "output_type": "stream",
     "text": [
      "Błąd średniokwadratowy wynosi 0.168\n"
     ]
    }
   ],
   "source": [
    "error = mean_squared_error(y_expected, y_predicted)\n",
    "print(f\"Błąd średniokwadratowy wynosi {error}\")"
   ]
  },
  {
   "cell_type": "code",
   "execution_count": 101,
   "id": "2fb4e3c9",
   "metadata": {},
   "outputs": [
    {
     "name": "stdout",
     "output_type": "stream",
     "text": [
      "0.832\n"
     ]
    }
   ],
   "source": [
    "print(model.score(x_test, y_expected))"
   ]
  },
  {
   "cell_type": "markdown",
   "id": "0c8c6805",
   "metadata": {},
   "source": [
    "#### Ewaluacja klasyfikacji"
   ]
  },
  {
   "cell_type": "code",
   "execution_count": 102,
   "id": "3d36fdc0",
   "metadata": {},
   "outputs": [],
   "source": [
    "precision, recall, fscore, support = precision_recall_fscore_support(y_expected, y_predicted, average=\"weighted\")"
   ]
  },
  {
   "cell_type": "code",
   "execution_count": 103,
   "id": "ab2f5016",
   "metadata": {},
   "outputs": [
    {
     "name": "stdout",
     "output_type": "stream",
     "text": [
      "Precision: 0.830\n",
      "Recall: 0.832\n",
      "F-score: 0.829\n"
     ]
    }
   ],
   "source": [
    "print(f\"Precision: {precision:.3f}\")\n",
    "print(f\"Recall: {recall:.3f}\")\n",
    "print(f\"F-score: {fscore:.3f}\")"
   ]
  }
 ],
 "metadata": {
  "kernelspec": {
   "display_name": "Python 3 (ipykernel)",
   "language": "python",
   "name": "python3"
  },
  "language_info": {
   "codemirror_mode": {
    "name": "ipython",
    "version": 3
   },
   "file_extension": ".py",
   "mimetype": "text/x-python",
   "name": "python",
   "nbconvert_exporter": "python",
   "pygments_lexer": "ipython3",
   "version": "3.11.0"
  }
 },
 "nbformat": 4,
 "nbformat_minor": 5
}
